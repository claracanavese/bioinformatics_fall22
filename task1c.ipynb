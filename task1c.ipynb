{
 "cells": [
  {
   "cell_type": "code",
   "execution_count": 1,
   "metadata": {},
   "outputs": [],
   "source": [
    "import anarci\n",
    "import pandas as pd\n",
    "# import seqlogo"
   ]
  },
  {
   "cell_type": "code",
   "execution_count": 2,
   "metadata": {},
   "outputs": [],
   "source": [
    "humanSeqPath = 'data/human.fa'\n",
    "mouseSeqPath = 'data/mouse.fa'\n",
    "\n",
    "# using run_anarci wrapper to allow for parallel computation and direct fasta parsing\n",
    "\n",
    "h_results = anarci.run_anarci(humanSeqPath,\n",
    "            ncpu=8,\n",
    "            scheme='imgt',\n",
    "            assign_germline=True,\n",
    "            allowed_species=['human'],\n",
    "            output=True,\n",
    "            csv=True,\n",
    "            outfile='data/human_numbering'\n",
    "            )\n",
    "\n",
    "m_results = anarci.run_anarci(mouseSeqPath,\n",
    "            ncpu=8,\n",
    "            scheme='imgt',\n",
    "            assign_germline=True,\n",
    "            allowed_species=['mouse'],\n",
    "            output=True,\n",
    "            csv=True,\n",
    "            outfile='data/mouse_numbering'\n",
    "            )"
   ]
  },
  {
   "cell_type": "code",
   "execution_count": 3,
   "metadata": {},
   "outputs": [],
   "source": [
    "def extract_sequences(csvPath, organism):\n",
    "    numberingDf = pd.read_csv(csvPath)\n",
    "    logoDf = numberingDf.filter(regex='Id|\\d+') # Id column and positions columns\n",
    "\n",
    "    outFile = 'data/' + organism + '_hmm.fasta'\n",
    "\n",
    "    with open(outFile, 'w') as f:\n",
    "\n",
    "        for index, row in logoDf.iterrows():\n",
    "            id = row[0]\n",
    "            seq = ''.join(list(row[1:]))\n",
    "            f.write(f'>{id}\\n{seq}\\n')"
   ]
  },
  {
   "cell_type": "code",
   "execution_count": 4,
   "metadata": {},
   "outputs": [],
   "source": [
    "extract_sequences('data/human_numbering_H.csv', 'human')\n",
    "extract_sequences('data/mouse_numbering_H.csv', 'mouse')"
   ]
  },
  {
   "cell_type": "code",
   "execution_count": 97,
   "metadata": {},
   "outputs": [],
   "source": [
    "# I still have to make this in python\n",
    "!weblogo --format PNG --size large < data/human_hmm.fasta > data/h_hmm_logo.png\n",
    "!weblogo --format PNG --size large < data/mouse_hmm.fasta > data/m_hmm_logo.png"
   ]
  }
 ],
 "metadata": {
  "kernelspec": {
   "display_name": "Python 3.11.0 ('bioinfo')",
   "language": "python",
   "name": "python3"
  },
  "language_info": {
   "codemirror_mode": {
    "name": "ipython",
    "version": 3
   },
   "file_extension": ".py",
   "mimetype": "text/x-python",
   "name": "python",
   "nbconvert_exporter": "python",
   "pygments_lexer": "ipython3",
   "version": "3.11.0"
  },
  "orig_nbformat": 4,
  "vscode": {
   "interpreter": {
    "hash": "886cd548bc8ebd5a711fc393b7f746638841d0692945d85de1f9436d717e8bed"
   }
  }
 },
 "nbformat": 4,
 "nbformat_minor": 2
}
